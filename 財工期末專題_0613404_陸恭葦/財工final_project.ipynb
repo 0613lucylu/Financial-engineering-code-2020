{
  "nbformat": 4,
  "nbformat_minor": 0,
  "metadata": {
    "colab": {
      "name": "財工final project",
      "provenance": [],
      "collapsed_sections": []
    },
    "kernelspec": {
      "name": "python3",
      "display_name": "Python 3"
    }
  },
  "cells": [
    {
      "cell_type": "code",
      "metadata": {
        "id": "BFEMA3YhmtN8",
        "colab_type": "code",
        "colab": {}
      },
      "source": [
        "import pandas as pd\n",
        "import math"
      ],
      "execution_count": 64,
      "outputs": []
    },
    {
      "cell_type": "code",
      "metadata": {
        "id": "WrMT2J_mph-E",
        "colab_type": "code",
        "colab": {}
      },
      "source": [
        "option =[[6900,820,835,8.6,9.1],\n",
        "         [7000,690,740,12,12.5],\n",
        "         [7100,630,645,17,18],\n",
        "         [7200,540,550,26,27],\n",
        "         [7300,445,470,38.5,39.5],\n",
        "         [7400,372,397,55,56],\n",
        "         [7500,304,307,78,79],\n",
        "         [7600,231,235,109,110],\n",
        "         [7700,173,174,148,149],\n",
        "         [7800,120,121,195,196],\n",
        "         [7900,80,81,250,258],\n",
        "         [8000,48.5,49,323,332],\n",
        "         [8200,15.5,16.5,493,505],\n",
        "         [8600,1,2,825,855]] #履約價/call買價/call賣價/put買價/put賣價\n",
        "TAIEX = [7757,7758] #前面買價後面賣價\n",
        "Tai_futures =[7756,7760]#前面買價後面賣價\n",
        "Tai = pd.Series(TAIEX)\n",
        "Tai_f = pd.Series(Tai_futures)\n",
        "option = pd.Series(option)\n",
        "rf= 0.01844\n",
        "t=1/12"
      ],
      "execution_count": 30,
      "outputs": []
    },
    {
      "cell_type": "code",
      "metadata": {
        "id": "j9ZLee_vgZ3P",
        "colab_type": "code",
        "colab": {}
      },
      "source": [
        "# theorem 2 for call\n",
        "def th2_call():\n",
        "  for i in range(len(option)-1):\n",
        "    for j in range(i+1,len(option)):\n",
        "      if(option[j][1]-option[i][2]>2):\n",
        "        print(\"There would be an arbitrage with Theorem2-call:\")\n",
        "        print('Buying one call option',option[i][0],\"cost\",option[i][2])\n",
        "        print(\"selling one call option\",option[j][0])\n",
        "        print('(for 1~2 is strike price is low to high, c: call price; X: strike price)')\n",
        "        print('At the maturity, if St<=X1, the profit is c2-c1-2',option[j][1]-option[i][2]-2)\n",
        "        print(\"At the maturity, if X1<St<X2, the profit is c2-c1+St-X1\",option[j][1]-option[i][2],\"-St -\",option[i][0]-2)\n",
        "        print(\"At the maturity, if St>=X2, the profit is c2-c1+X2-X1\",option[j][1]-option[i][2]+option[j][0]-option[i][0]-2)"
      ],
      "execution_count": 39,
      "outputs": []
    },
    {
      "cell_type": "code",
      "metadata": {
        "id": "Po6Nx3jwkS62",
        "colab_type": "code",
        "colab": {}
      },
      "source": [
        "# theorem 2 for put\n",
        "def th2_put():\n",
        "  for i in range(len(option)-1):\n",
        "    for j in range(i+1,len(option)):\n",
        "      if(option[i][3]-option[j][4]>2):\n",
        "        print(\"There would be an arbitrage with Theorem2-put:\")\n",
        "        print('selling one call option',option[i][0],\"get\",option[i][3])\n",
        "        print(\"buying one put option\",option[j][0])\n",
        "        print('(for 1~2 is strike price is low to high, p: put price; X: strike price)')\n",
        "        print('At the maturity, if St<=X1, the profit is p1-p2+X2-X1',option[i][3]-option[j][4]+option[j][0]-option[i][0]-2)\n",
        "        print(\"At the maturity, if X1<St<X2, the profit is p1-p2+X2-St\",option[i][3]-option[j][4]+option[j][0],\"-St\",-2)\n",
        "        print(\"At the maturity, if St>=X3, the profit is p1-p2\",option[i][3]-option[j][4]-2)"
      ],
      "execution_count": 40,
      "outputs": []
    },
    {
      "cell_type": "code",
      "metadata": {
        "id": "LAeZrN4rrLq0",
        "colab_type": "code",
        "colab": {}
      },
      "source": [
        "# theorem 3 for call\n",
        "def th3_call():\n",
        "  for i in range(len(option)):\n",
        "    if option[i][1]-Tai[1]>2:\n",
        "      print(\"There would be an arbitrage with Theorem3-call:\")\n",
        "      print(\"Buying the taiex and selling the call with strike price\",option[i][0])\n",
        "      print(\"If St>X, we get the strike price ;If St<X, we get the stock price at the maturity\")\n",
        "      prnit(\"At the maturity, if the St>X, the profit is c-S0+X-2\",option[i][1]-Tai[1]+option[i][0]-2)\n",
        "      print(\"At the maturity, if the St<X, the profit is c-S0+St-2\",option[i][1]-Tai[1],\"+St-2\")"
      ],
      "execution_count": 50,
      "outputs": []
    },
    {
      "cell_type": "code",
      "metadata": {
        "id": "oDaXeXiErGwJ",
        "colab_type": "code",
        "colab": {}
      },
      "source": [
        "# theorem 3 for put\n",
        "def th3_put():\n",
        "  for i in range(len(option)):\n",
        "    if option[i][3]-option[i][0]*math.exp(-rf*t)>1:\n",
        "      print(\"There would be an arbitrage with Theorem3-put:\")\n",
        "      print(\"Selling the put with the strike price\",option[i][0],\"save the present value of strike price\")\n",
        "      print(\"If St>X, we get the strike price ;If St<X, we get the spot price at the maturity\")\n",
        "      prnit(\"At the maturity, if the St>X, the profit is p-PV(X)+X-1\",option[i][3]-option[i][0]*exp(-rf*t)+option[i][0]-1)\n",
        "      print(\"At the maturity, if the St<X, the profit is p-PV(X)+St-1\",option[i][3]-option[i][0]*exp(-rf*t),\"+St-1\")"
      ],
      "execution_count": 51,
      "outputs": []
    },
    {
      "cell_type": "code",
      "metadata": {
        "id": "CYdzUR7DrOKm",
        "colab_type": "code",
        "colab": {}
      },
      "source": [
        "# theorem 4 for call\n",
        "def th4():\n",
        "  for i in range(len(option)):\n",
        "    value = Tai[0]-option[i][0]*math.exp(-rf*t)\n",
        "    if value>0:\n",
        "      tmp =value\n",
        "    else:\n",
        "      tmp =0\n",
        "    if tmp-option[i][2]>2:\n",
        "      print(\"There would be an arbitrage with Theorem4 (call):\")\n",
        "      print(\"Buying call costs\",option[i][2],\" Saving gets PV(\",option[i][0],\")\")\n",
        "      print(\"Selling the taiex gets\",Tai[0])\n",
        "      print(\"At maturity, if St>X, the profit is S0-c-PV(X)-2\",Tai[0]-option[i][2]-option[i][0]*math.exp(-rf*t)-2)\n",
        "      print(\"At maturity, if St<X, the profit is S0-c-PV(X)+X-St-2\",Tai[0]-option[i][2]-option[i][0]*math.exp(-rf*t)+option[i][0]-2,\"-St\")"
      ],
      "execution_count": 54,
      "outputs": []
    },
    {
      "cell_type": "code",
      "metadata": {
        "id": "ZnEUh9tyo8mZ",
        "colab_type": "code",
        "colab": {}
      },
      "source": [
        "# theorem 6 for put\n",
        "def th6():\n",
        "  for i in range(len(option)):\n",
        "    value = option[i][0]*math.exp(-rf*t)-Tai[1]\n",
        "    if value>0:\n",
        "      tmp =value\n",
        "    else:\n",
        "      tmp =0\n",
        "    if tmp-option[i][4]>2:\n",
        "      print(\"There would be an arbitrage with Theorem6 (put):\")\n",
        "      print(\"Buying put costs\",option[i][4],\" Borrowing gets PV(\",option[i][0],\")\")\n",
        "      print(\"Buying the taiex costs\",Tai[1])\n",
        "      print(\"At maturity, if St>X, the profit is PV(X)-S0-p+St-X-2\",option[i][0]*math.exp(-rf*t)-Tai[1]-option[i][4]-option[i][0]-2,\"-St\")\n",
        "      print(\"At maturity, if St<X, the profit is PV(X)-S0-p-2\",option[i][0]*math.exp(-rf*t)-Tai[2]-option[i][4]-2)"
      ],
      "execution_count": 48,
      "outputs": []
    },
    {
      "cell_type": "code",
      "metadata": {
        "id": "Bk8u3vJWtuYP",
        "colab_type": "code",
        "colab": {}
      },
      "source": [
        "# check theorem 8\n",
        "def th8():\n",
        "  for i in range(len(option)-2):\n",
        "    for j in range(i+1,len(option)-1):\n",
        "      for k in range(j+1,len(option)):\n",
        "        w =(option[k][0]-option[j][0])/(option[k][0]-option[i][0])\n",
        "        w = w*10000000\n",
        "        m = 1000000\n",
        "        g = math.gcd(int(w),m)\n",
        "        w =w/g\n",
        "        m =m/g\n",
        "        if m*option[j][1]-w*option[i][2]-(m-w)*option[k][2]>3:\n",
        "          print(\"There would be an arbitrage with Theorem8-call:\")\n",
        "          print(\"Selling\",m,\"units of strike price\",option[j][0],\"get\",m*option[j][1])\n",
        "          print(\"Buying \",w,\" units of strike price \",option[i][0],\" cost \",w*option[i][2])\n",
        "          print(\"Buying \",(m-w),\" units of strike price \",option[k][2],\" cost \",(m-w)*option[k][2])\n",
        "\t\t\t\t\t#print(\"w:\",w,\"m:\",m)\n",
        "          #print(\"for 1~3: strike price low to high\")\n",
        "\t\t\t\t\t#print(\"At maturity, if St<X1, the profit is m*c2-w*c1-(m-w)c3 \")\n",
        "\t\t\t\t\t#print(\"At maturity, if X1<St<X2, the profit is m*c2-w*c1-(m-w)c3+m(St-X1)\")\n",
        "\t\t\t\t  #print(\"At maturity, if X2<St<X3, the profit is m*c2-w*c1-(m-w)c3+w(St-X1)-m*(X2-St)\")\n",
        "\t\t\t\t\t#print(\"At maturity, if St>X3, the profit is m*c2-w*c1-(m-w)c3\")"
      ],
      "execution_count": 69,
      "outputs": []
    },
    {
      "cell_type": "code",
      "metadata": {
        "id": "lfokRULKluyH",
        "colab_type": "code",
        "colab": {}
      },
      "source": [
        "# theorem 9-2\n",
        "def th9_2():\n",
        "  for i in range(len(option)):\n",
        "    if option[i][4]-option[i][1]-(Tai_f[1]-option[i][0])*math.exp(-rf*t)>3:\n",
        "      print(\"There would be an arbitrage with Theorem9-2-1:\")\n",
        "      print(\"Selling call gets\",option[i][1])\n",
        "      print(\"Buying put costs\",option[i][4])\n",
        "      print(\"Buying futures costs\",Tai_f[1])\n",
        "      print(\"The profit is \",(option[i][4]-option[i][1])-(Tai_f[1]-option[i][0])*math.exp(-rf*t)-3)\n",
        "  \n",
        "  for i in range(len(option)):\n",
        "    if (Tai_f[0]-option[i][0])*math.exp(-rf*t)-(option[i][3]-option[i][2])>3:\n",
        "      print(\"There would be an arbitrage with Theorem9-2-1:\")\n",
        "      print(\"Selling call gets\",option[i][1])\n",
        "      print(\"Buying put costs\",option[i][4])\n",
        "      print(\"Buying futures costs\",Tai_f[1])\n",
        "      print(\"The profit is\",(option[i][4]-option[i][1])-(Tai_f[1]-option[i][0])*math.exp(-rf*t)-3)"
      ],
      "execution_count": 60,
      "outputs": []
    },
    {
      "cell_type": "code",
      "metadata": {
        "id": "ewVcX9rlvtl2",
        "colab_type": "code",
        "colab": {
          "base_uri": "https://localhost:8080/",
          "height": 1000
        },
        "outputId": "1838776c-da13-49ec-b175-48667881f8f3"
      },
      "source": [
        "# main\n",
        "# check theorem 2\n",
        "print(\"-----check theorem 2-----\") \n",
        "th2_call()\n",
        "th2_put()\n",
        "# check theorem 3\n",
        "print(\"-----check theorem 3-----\") \n",
        "th3_call()\n",
        "th3_put()\n",
        "# check theorem 4 (call lower bound)\n",
        "print(\"-----check theorem 4-----\") \n",
        "th4()\n",
        "# check theorem 6 (put lower bound)\n",
        "print(\"-----check theorem 6-----\")\n",
        "th6()\n",
        "# check theorem 8\n",
        "print(\"-----check theorem 8-----\") \n",
        "th8()\n",
        "# check theorem 9\n",
        "print(\"-----check theorem 9-2-----\")\n",
        "th9_2()\n"
      ],
      "execution_count": 70,
      "outputs": [
        {
          "output_type": "stream",
          "text": [
            "-----check theorem 2-----\n",
            "-----check theorem 3-----\n",
            "-----check theorem 4-----\n",
            "There would be an arbitrage with Theorem4 (call):\n",
            "Buying call costs 835  Saving gets PV( 6900 )\n",
            "Selling the taiex gets 7757\n",
            "At maturity, if St>X, the profit is S0-c-PV(X)-2 30.59485753295303\n",
            "At maturity, if St<X, the profit is S0-c-PV(X)+X-St-2 6930.594857532953 -St\n",
            "There would be an arbitrage with Theorem4 (call):\n",
            "Buying call costs 740  Saving gets PV( 7000 )\n",
            "Selling the taiex gets 7757\n",
            "At maturity, if St>X, the profit is S0-c-PV(X)-2 25.74840619285078\n",
            "At maturity, if St<X, the profit is S0-c-PV(X)+X-St-2 7025.748406192851 -St\n",
            "There would be an arbitrage with Theorem4 (call):\n",
            "Buying call costs 645  Saving gets PV( 7100 )\n",
            "Selling the taiex gets 7757\n",
            "At maturity, if St>X, the profit is S0-c-PV(X)-2 20.90195485274853\n",
            "At maturity, if St<X, the profit is S0-c-PV(X)+X-St-2 7120.9019548527485 -St\n",
            "There would be an arbitrage with Theorem4 (call):\n",
            "Buying call costs 550  Saving gets PV( 7200 )\n",
            "Selling the taiex gets 7757\n",
            "At maturity, if St>X, the profit is S0-c-PV(X)-2 16.055503512647192\n",
            "At maturity, if St<X, the profit is S0-c-PV(X)+X-St-2 7216.055503512647 -St\n",
            "-----check theorem 6-----\n",
            "-----check theorem 8-----\n",
            "-----check theorem 9-2-----\n",
            "There would be an arbitrage with Theorem9-2-1:\n",
            "Selling call gets 120\n",
            "Buying put costs 196\n",
            "Buying futures costs 7760\n",
            "The profit is  112.93858053604086\n",
            "There would be an arbitrage with Theorem9-2-1:\n",
            "Selling call gets 80\n",
            "Buying put costs 258\n",
            "Buying futures costs 7760\n",
            "The profit is  314.78503187614297\n",
            "There would be an arbitrage with Theorem9-2-1:\n",
            "Selling call gets 48.5\n",
            "Buying put costs 332\n",
            "Buying futures costs 7760\n",
            "The profit is  520.1314832162451\n",
            "There would be an arbitrage with Theorem9-2-1:\n",
            "Selling call gets 15.5\n",
            "Buying put costs 505\n",
            "Buying futures costs 7760\n",
            "The profit is  925.8243858964494\n",
            "There would be an arbitrage with Theorem9-2-1:\n",
            "Selling call gets 1\n",
            "Buying put costs 855\n",
            "Buying futures costs 7760\n",
            "The profit is  1689.7101912568578\n",
            "There would be an arbitrage with Theorem9-2-1:\n",
            "Selling call gets 820\n",
            "Buying put costs 9.1\n",
            "Buying futures costs 7760\n",
            "The profit is -1672.5794815248782\n",
            "There would be an arbitrage with Theorem9-2-1:\n",
            "Selling call gets 690\n",
            "Buying put costs 12.5\n",
            "Buying futures costs 7760\n",
            "The profit is -1439.3330301847761\n",
            "There would be an arbitrage with Theorem9-2-1:\n",
            "Selling call gets 630\n",
            "Buying put costs 18\n",
            "Buying futures costs 7760\n",
            "The profit is -1273.986578844674\n",
            "There would be an arbitrage with Theorem9-2-1:\n",
            "Selling call gets 540\n",
            "Buying put costs 27\n",
            "Buying futures costs 7760\n",
            "The profit is -1075.1401275045719\n",
            "There would be an arbitrage with Theorem9-2-1:\n",
            "Selling call gets 445\n",
            "Buying put costs 39.5\n",
            "Buying futures costs 7760\n",
            "The profit is -867.7936761644698\n",
            "There would be an arbitrage with Theorem9-2-1:\n",
            "Selling call gets 372\n",
            "Buying put costs 56\n",
            "Buying futures costs 7760\n",
            "The profit is -678.4472248243676\n",
            "There would be an arbitrage with Theorem9-2-1:\n",
            "Selling call gets 304\n",
            "Buying put costs 79\n",
            "Buying futures costs 7760\n",
            "The profit is -487.6007734842655\n",
            "There would be an arbitrage with Theorem9-2-1:\n",
            "Selling call gets 231\n",
            "Buying put costs 110\n",
            "Buying futures costs 7760\n",
            "The profit is -283.75432214416344\n",
            "There would be an arbitrage with Theorem9-2-1:\n",
            "Selling call gets 173\n",
            "Buying put costs 149\n",
            "Buying futures costs 7760\n",
            "The profit is -86.90787080406128\n"
          ],
          "name": "stdout"
        }
      ]
    },
    {
      "cell_type": "code",
      "metadata": {
        "id": "nmoG_cgsZnkH",
        "colab_type": "code",
        "colab": {}
      },
      "source": [
        ""
      ],
      "execution_count": null,
      "outputs": []
    }
  ]
}