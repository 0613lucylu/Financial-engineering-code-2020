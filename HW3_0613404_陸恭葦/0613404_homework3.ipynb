{
  "nbformat": 4,
  "nbformat_minor": 0,
  "metadata": {
    "colab": {
      "name": "0613404_homework3.ipynb",
      "provenance": [],
      "collapsed_sections": []
    },
    "kernelspec": {
      "name": "python3",
      "display_name": "Python 3"
    }
  },
  "cells": [
    {
      "cell_type": "code",
      "metadata": {
        "id": "N-zV6k20iRZI",
        "colab_type": "code",
        "colab": {}
      },
      "source": [
        "import datetime \n",
        "import time\n",
        "def function1(year, month, day,year2,month2,day2):\n",
        "  interval =(year-year2)*12+(month-month2)\n",
        "  return interval*30\n",
        "def function2(year, month, day,year2,month2,day2):\n",
        "  date1 = datetime.date(year, month, day)\n",
        "  date2 = datetime.date(year2,month2,day2)\n",
        "  interval =date2-date1\n",
        "  day = interval.days\n",
        "  if(day>0):\n",
        "    return day\n",
        "  else:\n",
        "    print(\"wrong input\")"
      ],
      "execution_count": 0,
      "outputs": []
    },
    {
      "cell_type": "code",
      "metadata": {
        "id": "oIzhR2jT0dZg",
        "colab_type": "code",
        "colab": {}
      },
      "source": [
        "import math\n",
        "def dirty(rate,bond,w,day):\n",
        "  n = day//180\n",
        "  r= bond/100/2\n",
        "  c =rate/2\n",
        "  value=0\n",
        "  for i in range(n+1):\n",
        "    value=value+c*(math.pow((1+r),-(w+i)))\n",
        "    if(i==n):\n",
        "      value=value+(math.pow((1+r),-(w+i)))*100\n",
        "  return value"
      ],
      "execution_count": 0,
      "outputs": []
    },
    {
      "cell_type": "code",
      "metadata": {
        "id": "pWFzKVwTB9Y8",
        "colab_type": "code",
        "outputId": "f03afcaf-db16-4163-f8e5-60aded279afd",
        "colab": {
          "base_uri": "https://localhost:8080/",
          "height": 269
        }
      },
      "source": [
        "method = int(input(\"which method to count conversion: actual/actual(1) or 30/360(2)\"))\n",
        "year = int(input(\"bond maturity year \"))\n",
        "month = int(input(\"bond maturity month \"))\n",
        "day =int(input(\"bond maturity day \"))\n",
        "year2 = int(input(\"settlement year \"))\n",
        "month2 = int(input(\"settlement month \"))\n",
        "day2 =int(input(\"settlement day \"))\n",
        "bond =float(input(\"bond yield (%) \"))\n",
        "rate = float(input(\"coupon rate(%) \"))\n",
        "if(method==1):\n",
        "  day = function2(year,month,day,year2,month2,day2)\n",
        "  w = (day%180)/180\n",
        "  interest = rate*(1-(day%180)/180 )/2\n",
        "  dirty_price = dirty(rate,bond,w,day)\n",
        "  clean_price = dirty_price-float(interest)\n",
        "  print(\"Dirty price\",dirty_price)\n",
        "  print(\"Clean price\",clean_price)\n",
        "if(method==2):\n",
        "  day = function1(year,month,day,year2,month2,day2)\n",
        "  w = (day%180)/180\n",
        "  interest = rate*(1-(day%180)/180 )/2\n",
        "  dirty_price = dirty(rate,bond,w,day)\n",
        "  clean_price = dirty_price-float(interest)\n",
        "  print(\"Dirty price\",dirty_price)\n",
        "  print(\"Clean price\",clean_price)\n",
        "else:\n",
        "  print(\"wrong input\")\n",
        "\n"
      ],
      "execution_count": 0,
      "outputs": [
        {
          "output_type": "stream",
          "text": [
            "which method to count conversion: actual/actual(1) or 30/360(2)2\n",
            "bond maturity year 1995\n",
            "bond maturity month 3\n",
            "bond maturity day 1\n",
            "settlement year 1993\n",
            "settlement month 7\n",
            "settlement day 1\n",
            "bond yield (%) 3\n",
            "coupon rate(%) 10\n",
            "4.975247119323943\n",
            "9.87696841915049\n",
            "14.706250487945116\n",
            "19.464163856215684\n",
            "Dirty price 114.62243122162707\n",
            "Clean price 111.28909788829374\n"
          ],
          "name": "stdout"
        }
      ]
    }
  ]
}