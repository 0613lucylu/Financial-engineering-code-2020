{
  "nbformat": 4,
  "nbformat_minor": 0,
  "metadata": {
    "colab": {
      "name": "0613404_homework4_2.ipynb ",
      "provenance": []
    },
    "kernelspec": {
      "name": "python3",
      "display_name": "Python 3"
    }
  },
  "cells": [
    {
      "cell_type": "code",
      "metadata": {
        "id": "BAZ1u-lnpR3r",
        "colab_type": "code",
        "colab": {}
      },
      "source": [
        "def duration(n,c,r,face):\n",
        "  duration=0\n",
        "  value =0\n",
        "  for i in range(1,n+1):\n",
        "    discount =1\n",
        "    for j in range(1,i+1):\n",
        "      discount = discount/(1+r)\n",
        "    duration=duration+i*discount*c\n",
        "    value = value+discount*c\n",
        "    if(i==n):\n",
        "      value = value+discount*face\n",
        "      duration=duration+(n)*discount*face\n",
        "  duration =duration/value\n",
        "  return duration"
      ],
      "execution_count": 0,
      "outputs": []
    },
    {
      "cell_type": "code",
      "metadata": {
        "id": "Dr7QxhDdyx21",
        "colab_type": "code",
        "colab": {}
      },
      "source": [
        "def modified_duration(ans1,r):\n",
        "  return ans1/(1+r)"
      ],
      "execution_count": 0,
      "outputs": []
    },
    {
      "cell_type": "code",
      "metadata": {
        "id": "aj_nxxxgz9Qk",
        "colab_type": "code",
        "colab": {}
      },
      "source": [
        "def change(ans2,m):\n",
        "  return ans2*m*0.0001*100"
      ],
      "execution_count": 0,
      "outputs": []
    },
    {
      "cell_type": "code",
      "metadata": {
        "id": "6efC8c-Yo5GC",
        "colab_type": "code",
        "outputId": "b582334b-2a5c-4ef8-c71a-e6d978af2d20",
        "colab": {
          "base_uri": "https://localhost:8080/",
          "height": 151
        }
      },
      "source": [
        "n =int(input(\"請輸入期數\"))\n",
        "co =float(input(\"請輸入債息(%)\"))\n",
        "ro =float(input(\"請輸入利率(%)\"))\n",
        "face =float(input(\"請輸入face value\"))\n",
        "c=co/100*face\n",
        "r=ro/100\n",
        "ans1=duration(n,c,r,face)\n",
        "print(\"Duration=\",ans1)\n",
        "ans2=modified_duration(ans1,r)\n",
        "print(\"Modified duration=\",ans2)\n",
        "m =int(input(\"變動多少個basis point\"))\n",
        "ans3=change(ans2,m)\n",
        "print(\"change\",m,\"basis point,the price change\",ans3,\"%\")"
      ],
      "execution_count": 8,
      "outputs": [
        {
          "output_type": "stream",
          "text": [
            "請輸入期數6\n",
            "請輸入債息(%)8\n",
            "請輸入利率(%)8\n",
            "請輸入face value1000\n",
            "Duration= 4.992710037078085\n",
            "Modified duration= 4.622879663961189\n",
            "變動多少個basis point1\n",
            "change 1 basis point,the price change 0.046228796639611894 %\n"
          ],
          "name": "stdout"
        }
      ]
    }
  ]
}