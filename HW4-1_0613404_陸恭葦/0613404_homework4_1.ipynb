{
  "nbformat": 4,
  "nbformat_minor": 0,
  "metadata": {
    "colab": {
      "name": "0613404_homework4_1.ipynb",
      "provenance": []
    },
    "kernelspec": {
      "name": "python3",
      "display_name": "Python 3"
    }
  },
  "cells": [
    {
      "cell_type": "code",
      "metadata": {
        "id": "BAZ1u-lnpR3r",
        "colab_type": "code",
        "colab": {}
      },
      "source": [
        "def duration(n,c,r,face):\n",
        "  duration=0\n",
        "  value =0\n",
        "  for i in range(1,n+1):\n",
        "    discount =1\n",
        "    for j in range(1,i+1):\n",
        "      discount = discount/(1+r)\n",
        "    duration=duration+i*discount*c\n",
        "    value = value+discount*c\n",
        "    if(i==n):\n",
        "      value = value+discount*face\n",
        "      duration=duration+(n)*discount*face\n",
        "  duration =duration/value\n",
        "  return duration"
      ],
      "execution_count": 0,
      "outputs": []
    },
    {
      "cell_type": "code",
      "metadata": {
        "id": "6efC8c-Yo5GC",
        "colab_type": "code",
        "outputId": "907df7a9-d6aa-4652-8f7c-5ab9a0444786",
        "colab": {
          "base_uri": "https://localhost:8080/",
          "height": 101
        }
      },
      "source": [
        "n =int(input(\"請輸入期數\"))\n",
        "co =float(input(\"請輸入債息(%)\"))\n",
        "ro =float(input(\"請輸入利率(%)\"))\n",
        "face =float(input(\"請輸入face value\"))\n",
        "c=co/100*face\n",
        "r=ro/100\n",
        "ans1=duration(n,c,r,face)\n",
        "print(\"Duration=\",ans1)"
      ],
      "execution_count": 16,
      "outputs": [
        {
          "output_type": "stream",
          "text": [
            "請輸入期數6\n",
            "請輸入債息(%)8\n",
            "請輸入利率(%)8\n",
            "請輸入face value1000\n",
            "Duration= 4.992710037078085\n"
          ],
          "name": "stdout"
        }
      ]
    }
  ]
}